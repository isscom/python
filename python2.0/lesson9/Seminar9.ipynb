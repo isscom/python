{
  "nbformat": 4,
  "nbformat_minor": 0,
  "metadata": {
    "colab": {
      "provenance": [],
      "collapsed_sections": [
        "WnnidZFLDbd9",
        "qiqlliX9ZnEj",
        "wbTaslZW6qmi"
      ]
    },
    "kernelspec": {
      "name": "python3",
      "display_name": "Python 3"
    },
    "language_info": {
      "name": "python"
    }
  },
  "cells": [
    {
      "cell_type": "markdown",
      "source": [
        "### Задача №57. ###\n",
        "1. Прочесть с помощью pandas файл california_housing_test.csv, который находится в папке sample_data\n",
        "2. Посмотреть сколько в нем строк и столбцов\n",
        "3. Определить какой тип данных имеют столбцы"
      ],
      "metadata": {
        "id": "WnnidZFLDbd9"
      }
    },
    {
      "cell_type": "code",
      "execution_count": null,
      "metadata": {
        "id": "3rpRvZ3W0zmm"
      },
      "outputs": [],
      "source": [
        "import pandas as pd"
      ]
    },
    {
      "cell_type": "code",
      "source": [
        "# 1 Прочесть с помощью pandas файл california_housing_test.csv, который находится в папке sample_data\n",
        "# data_frame (df)\n",
        "df = pd.read_csv(\"sample_data/california_housing_test.csv\")\n",
        "df.head() #  первые 5 строк на экран (если указываем в скобках, то выводит это кол-во строк)\n",
        "df.tail() #  последние 5 строк по аналогии"
      ],
      "metadata": {
        "id": "KSS36Kho75FU"
      },
      "execution_count": null,
      "outputs": []
    },
    {
      "cell_type": "code",
      "source": [
        "# 2 Посмотреть сколько в нем строк и столбцов\n",
        "df.shape"
      ],
      "metadata": {
        "id": "SFgs1aLjGby6"
      },
      "execution_count": null,
      "outputs": []
    },
    {
      "cell_type": "code",
      "source": [
        "# 3 Определить какой тип данных имеют столбцы\n",
        "df.dtypes # вывод типа данных по каждому столбцу"
      ],
      "metadata": {
        "id": "SMjtYRaMGp9U"
      },
      "execution_count": null,
      "outputs": []
    },
    {
      "cell_type": "code",
      "source": [
        "df.info() # вывод информацию: какие данные есть"
      ],
      "metadata": {
        "id": "m1X0MybaHHm2"
      },
      "execution_count": null,
      "outputs": []
    },
    {
      "cell_type": "markdown",
      "source": [
        "### Задача №59. ###\n",
        "1. Проверить есть ли в файле пустые значения\n",
        "2. Показать median_house_value где median_income < 2\n",
        "3. Показать данные в первых 2 столбцах\n",
        "4. Выбрать данные где housing_median_age < 20 и median_house_value > 70000"
      ],
      "metadata": {
        "id": "qiqlliX9ZnEj"
      }
    },
    {
      "cell_type": "code",
      "source": [
        "# 1 Проверить есть ли в файле пустые значения\n",
        "df.isnull().sum()"
      ],
      "metadata": {
        "id": "QFCrb-RBHhcm"
      },
      "execution_count": null,
      "outputs": []
    },
    {
      "cell_type": "code",
      "source": [
        "# 2 Показать median_house_value где median_income < 2\n",
        "df.loc[df['median_income'] < 2, 'median_house_value']"
      ],
      "metadata": {
        "id": "IIRwQ37cZ13o"
      },
      "execution_count": null,
      "outputs": []
    },
    {
      "cell_type": "code",
      "source": [
        "# 3 Показать данные в первых 2 столбцах\n",
        "df[['longitude', 'latitude']] # один столбец выводим - передаем в виде строки, несколько стобцов - в виде списка"
      ],
      "metadata": {
        "id": "ZD3Ab8xwayOz"
      },
      "execution_count": null,
      "outputs": []
    },
    {
      "cell_type": "code",
      "source": [
        "# обращаемся к номеру строки\n",
        "df.iloc[2999]\n",
        "\n",
        "# обращаеся к столбцу: df['название столбца']"
      ],
      "metadata": {
        "id": "7yXWxbcJdMUM"
      },
      "execution_count": null,
      "outputs": []
    },
    {
      "cell_type": "code",
      "source": [
        "df.iloc[2999]['longitude']"
      ],
      "metadata": {
        "id": "jd26jv6Eds4U"
      },
      "execution_count": null,
      "outputs": []
    },
    {
      "cell_type": "code",
      "source": [
        "# 4 Выбрать данные где housing_median_age < 20 и median_house_value > 70000\n",
        "df[(df['housing_median_age'] < 20) & (df['median_house_value'] > 70000)]\n",
        "# & - и(and)\n",
        "# | - или(or)"
      ],
      "metadata": {
        "id": "Cc3OgbLUyxFx"
      },
      "execution_count": null,
      "outputs": []
    },
    {
      "cell_type": "markdown",
      "source": [
        "### Задача №61. ###\n",
        "1. Определить какое максимальное и минимальное значение median_house_value\n",
        "2. Показать максимальное median_house_value, где median_income = 3.1250\n",
        "3.Узнать какая максимальная population в зоне минимального значения median_house_value"
      ],
      "metadata": {
        "id": "wbTaslZW6qmi"
      }
    },
    {
      "cell_type": "code",
      "source": [
        "# 1 Определить какое максимальное и минимальное значение median_house_value\n",
        "print(df['median_house_value'].min(), df['median_house_value'].max())\n",
        "print()\n",
        "# еще один вариант:\n",
        "df['median_house_value'].describe()"
      ],
      "metadata": {
        "id": "5u2FVgrO6ytr"
      },
      "execution_count": null,
      "outputs": []
    },
    {
      "cell_type": "code",
      "source": [
        "# 2 Показать максимальное median_house_value, где median_income = 3.1250\n",
        "\n",
        "# ДЕЛАЕМ ПОСТЕПЕННО\n",
        "\n",
        "# 2.1\n",
        "df[df['median_income'] == 3.1250]"
      ],
      "metadata": {
        "id": "OTNVoqyG7kPx"
      },
      "execution_count": null,
      "outputs": []
    },
    {
      "cell_type": "code",
      "source": [
        "# 2.2 Можем обратиться к столбцу median_house_value вот так:\n",
        "df[df['median_income'] == 3.1250]['median_house_value']"
      ],
      "metadata": {
        "id": "goWAx8jI-lOi"
      },
      "execution_count": null,
      "outputs": []
    },
    {
      "cell_type": "code",
      "source": [
        "# 2.2 А можем через функцию loc\n",
        "df.loc[df['median_income'] == 3.1250, 'median_house_value']"
      ],
      "metadata": {
        "id": "rjUi-Q0t_Kf8"
      },
      "execution_count": null,
      "outputs": []
    },
    {
      "cell_type": "code",
      "source": [
        "# 2.3\n",
        "df.loc[df['median_income'] == 3.1250, 'median_house_value'].max()"
      ],
      "metadata": {
        "id": "e1I5gvU9_YWi"
      },
      "execution_count": null,
      "outputs": []
    },
    {
      "cell_type": "code",
      "source": [
        "# 3 Узнать какая максимальная population в зоне минимального значения median_house_value\n",
        "df[df['median_house_value'] == df['median_house_value'].min()]['population'].max()"
      ],
      "metadata": {
        "id": "rQDuQLZk_tYE"
      },
      "execution_count": null,
      "outputs": []
    }
  ]
}